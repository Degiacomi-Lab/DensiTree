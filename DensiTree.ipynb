{
  "nbformat": 4,
  "nbformat_minor": 0,
  "metadata": {
    "colab": {
      "provenance": [],
      "collapsed_sections": [
        "MIHHyieW0qDj",
        "eKaTkczR1MmT"
      ]
    },
    "kernelspec": {
      "name": "python3",
      "display_name": "Python 3"
    },
    "language_info": {
      "name": "python"
    }
  },
  "cells": [
    {
      "cell_type": "markdown",
      "source": [
        "# DensiTree\n",
        "## Protein Density Prediction\n",
        "DensiTree allows for the prediction of protein density (in g cm<sup>3</sup>) via the use of pre-trained random forest regressors. DensiTree is housed in the [DensiTree GitHub repo](https://github.com/Degiacomi-Lab/DensiTree). These random forest regressors have been trained (see the [README.md](https://github.com/Degiacomi-Lab/DensiTree?tab=readme-ov-file#densitree)) on different features selected from data derived from molecular dynamics simulations of a dataset of 260-proteins at two separate temperatures (300 K and 310.15 K, respectively), including two regressors trained purely on the amino acid compositions of the proteins in the dataset.\n",
        "\n",
        "## Using DensiTree\n",
        "DensiTree can predict protein densities from Protein Databank .pdb files ([PDB](https://www.rcsb.org/) files), [FASTA files](https://en.wikipedia.org/wiki/FASTA_format), or strings (of [one-letter or three-letter amino acid codes](https://www.ebi.ac.uk/pdbe/docs/roadshow_tutorial/msdtarget/AAcodes.html)). However, only by using PDB files can regressors trained on structured-derived features be used."
      ],
      "metadata": {
        "id": "Q0ywHzk9xYf2"
      }
    },
    {
      "cell_type": "code",
      "source": [
        "#@title Install conda for colab\n",
        "#@markdown Kernel will restart automatically, then you can continue to the next cell.\n",
        "#@markdown <br> (Don't worry if you get a 'Your session crashed for an unknown reason.' error, this is the expected behaviour.)\n",
        "!if [ -n \"$COLAB_RELEASE_TAG\" ]; then pip install condacolab; fi\n",
        "import condacolab\n",
        "condacolab.install()"
      ],
      "metadata": {
        "id": "dtVPuXu2QNu8",
        "collapsed": true,
        "cellView": "form"
      },
      "execution_count": null,
      "outputs": []
    },
    {
      "cell_type": "code",
      "source": [
        "#@title Get density prediction code from GitHub repository\n",
        "%%capture\n",
        "import condacolab\n",
        "%cd ~/../content\n",
        "\n",
        "!rm -rf DensiTree\n",
        "!git clone \"https://github.com/Degiacomi-Lab/DensiTree.git\"\n"
      ],
      "metadata": {
        "collapsed": true,
        "id": "FvUU-SuvP9g8",
        "cellView": "form"
      },
      "execution_count": null,
      "outputs": []
    },
    {
      "cell_type": "code",
      "execution_count": null,
      "metadata": {
        "collapsed": true,
        "id": "u4plmkpHPO9u",
        "cellView": "form"
      },
      "outputs": [],
      "source": [
        "#@title Install dependencies and enable widgets\n",
        "%%capture\n",
        "!mamba env update -n base -f DensiTree/environment.yml\n",
        "\n",
        "#from google.colab import output\n",
        "#output.enable_custom_widget_manager()\n"
      ]
    },
    {
      "cell_type": "markdown",
      "source": [
        "# Upload protein structures or sequences as appropriate below.\n",
        "Multiple PDB files, FASTA files and sequence strings can be uploaded."
      ],
      "metadata": {
        "id": "MIHHyieW0qDj"
      }
    },
    {
      "cell_type": "code",
      "source": [
        "# @title Upload Protein Structure PDB File(s)\n",
        "from google.colab import files\n",
        "import ipywidgets as widgets\n",
        "from IPython.display import display, HTML\n",
        "import os\n",
        "import shutil\n",
        "\n",
        "# Ensure correct cwd\n",
        "%cd /content\n",
        "\n",
        "if not os.path.exists('structure_data'):\n",
        "    os.makedirs('structure_data')\n",
        "\n",
        "# filename variable\n",
        "uploaded_filename = None\n",
        "\n",
        "# file upload function\n",
        "def file_upload(b):\n",
        "    global uploaded_filename\n",
        "    uploaded = files.upload()\n",
        "    for fname in uploaded.keys():\n",
        "        # Move each file into the 'data' folder\n",
        "        shutil.move(fname, os.path.join('structure_data', fname))\n",
        "        uploaded_filename = os.path.join('structure_data', fname)\n",
        "        print(f\"✅ Uploaded file saved to: {uploaded_filename}\")\n",
        "\n",
        "# button widget\n",
        "btn = widgets.Button(\n",
        "    description='📁 Upload PDB File(s)',\n",
        "    button_style='success',\n",
        "    layout=widgets.Layout(width='300px', height='75px'),\n",
        "    style={'font_weight': 'bold', 'font_size': '16px'}\n",
        ")\n",
        "\n",
        "btn.on_click(file_upload)\n",
        "display(HTML(\"<h3 style='font-family:sans-serif;'>Upload Protein Structure PDB File</h3>\"))\n",
        "display(btn)\n",
        "\n"
      ],
      "metadata": {
        "collapsed": true,
        "id": "YOLZiD_KFVP2",
        "cellView": "form"
      },
      "execution_count": null,
      "outputs": []
    },
    {
      "cell_type": "code",
      "source": [
        "# @title Upload Protein Sequences as FASTA file(s)\n",
        "\n",
        "# Ensure correct cwd\n",
        "%cd /content\n",
        "\n",
        "if not os.path.exists('sequence_data'):\n",
        "    os.makedirs('sequence_data')\n",
        "\n",
        "# filename variable\n",
        "uploaded_filename = None\n",
        "\n",
        "# file upload function\n",
        "def file_upload(b):\n",
        "    global uploaded_filename\n",
        "    uploaded = files.upload()\n",
        "    for fname in uploaded.keys():\n",
        "        # Move each file into the 'data' folder\n",
        "        shutil.move(fname, os.path.join('sequence_data', fname))\n",
        "        uploaded_filename = os.path.join('sequence_data', fname)\n",
        "        print(f\"✅ Uploaded file saved to: {uploaded_filename}\")\n",
        "\n",
        "# button widget\n",
        "btn = widgets.Button(\n",
        "    description='📁 Upload FASTA File(s)',\n",
        "    button_style='success',\n",
        "    layout=widgets.Layout(width='300px', height='75px'),\n",
        "    style={'font_weight': 'bold', 'font_size': '16px'}\n",
        ")\n",
        "\n",
        "btn.on_click(file_upload)\n",
        "display(HTML(\"<h3 style='font-family:sans-serif;'>Upload Protein Structure PDB File</h3>\"))\n",
        "display(btn)"
      ],
      "metadata": {
        "cellView": "form",
        "id": "t0i9tr1TQFH3"
      },
      "execution_count": null,
      "outputs": []
    },
    {
      "cell_type": "code",
      "source": [
        "#@title Add Protein Sequences as Text\n",
        "#@markdown Protein amino residue sequences in either one or three letter codes separated by commas.\n",
        "\n",
        "textarea = widgets.Textarea(\n",
        "    description='Sequence(s):',\n",
        "    disabled=False,\n",
        "    placeholder='Add comma-separated protein sequences',\n",
        "    layout=widgets.Layout(width='600px', height='100px'),\n",
        "    style={'font_weight': 'bold', 'font_size': '16px'}\n",
        ")\n",
        "\n",
        "button = widgets.Button(\n",
        "    description='Submit',\n",
        "    button_style='success'\n",
        ")\n",
        "box_layout = widgets.Layout(display='flex',\n",
        "                flex_flow='column',\n",
        "                align_items='center',\n",
        "                width='50%')\n",
        "box = widgets.HBox(children=[button],layout=box_layout)\n",
        "\n",
        "sequences_text = \"\"\n",
        "def on_button_click(b):\n",
        "  global sequences_text\n",
        "  sequences_text = textarea.value\n",
        "  print(f\"Sequence(s) = {sequences_text}\")\n",
        "  return sequences_text\n",
        "button.on_click(on_button_click)\n",
        "\n",
        "display(textarea, box)"
      ],
      "metadata": {
        "id": "7TKo1OaERHFQ",
        "cellView": "form"
      },
      "execution_count": null,
      "outputs": []
    },
    {
      "cell_type": "code",
      "source": [
        "#@title Choose Random Forest Regressor options\n",
        "#@markdown <br>'Sequence & Structure' estimates protein density using **both** the protein structure-derived characteristic features and the protein sequence (valid if protein structures in PDB format have been uploaded).\n",
        "#@markdown <br>'20 best features' refers to the most important features when using structure-derived features.\n",
        "import ipywidgets as widgets\n",
        "from IPython.display import display\n",
        "\n",
        "options = [\"Sequence & Structure?\"]\n",
        "\n",
        "checkboxes = []\n",
        "for option in options:\n",
        "    if \"recommended\" in option:\n",
        "      checkbox = widgets.Checkbox(description=option, value=True)\n",
        "    else:\n",
        "      checkbox = widgets.Checkbox(description=option, value=False)\n",
        "    checkboxes.append(checkbox)\n",
        "\n",
        "checks1 = widgets.VBox(checkboxes)\n",
        "display(checks1)\n",
        "\n",
        "temp_options = [\"300 K (recommended)\",\"310.15 K\"]\n",
        "\n",
        "dropdown1 = widgets.Dropdown(\n",
        "    options=temp_options,\n",
        "    value=\"300 K (recommended)\",\n",
        "    description='Temperature:',\n",
        "    disabled=False,\n",
        ")\n",
        "display(dropdown1)\n",
        "\n",
        "\n",
        "feature_options = [\"20 best features (recommended)\", \"all features\"]\n",
        "dropdown2 = widgets.Dropdown(\n",
        "    options=feature_options,\n",
        "    value=\"20 best features (recommended)\",\n",
        "    description='Features:',\n",
        "    disabled=False,\n",
        ")\n",
        "display(dropdown2)\n",
        "\n",
        "\n"
      ],
      "metadata": {
        "cellView": "form",
        "id": "jcwZnpdXRstQ"
      },
      "execution_count": null,
      "outputs": []
    },
    {
      "cell_type": "markdown",
      "source": [
        "# Calculate predicted density results below\n",
        "Results will be printed to the console and saved in comma-separated lines to results/predictions.txt."
      ],
      "metadata": {
        "id": "eKaTkczR1MmT"
      }
    },
    {
      "cell_type": "code",
      "source": [
        "#@title Calculate results and save to file (predictions.txt) in results folder\n",
        "\n",
        "%cd ~/../content/DensiTree\n",
        "\n",
        "import DensiTree.DensiTree as DT\n",
        "\n",
        "structure_data_files = [file for file in os.listdir(\"../structure_data\") if file.endswith(\".pdb\")]\n",
        "\n",
        "if (checkboxes[0].value == True) and not (os.path.exists(\"../sequence_data\")):\n",
        "  !mkdir \"../sequence_data\"\n",
        "  !cp ../structure_data/* ../sequence_data/\n",
        "\n",
        "#ensure hidden files not added\n",
        "sequence_data_files = []\n",
        "for file in os.listdir(\"../sequence_data\"):\n",
        "    if not file.startswith('.'):\n",
        "        sequence_data_files.append(file)\n",
        "\n",
        "\n",
        "for data_file in structure_data_files:\n",
        "  if not data_file.endswith(\".pdb\"):\n",
        "    print(f\"{data_file} is not a PDB file, please only upload files with the '.pdb' extension to the data folder.\")\n",
        "\n",
        "if not os.path.exists('results'):\n",
        "    os.makedirs('results')\n",
        "\n",
        "if not os.path.exists('results/predictions_1.txt'):\n",
        "  results_file = 'results/predictions_1.txt'\n",
        "else:\n",
        "  results_files = os.listdir('results')\n",
        "  results = [int(results_file.split('_')[1].split('.')[0]) for results_file in results_files if results_file.endswith(\".txt\")]\n",
        "  results.sort()\n",
        "  results_file = f\"results/predictions_{results[-1] + 1}.txt\"\n",
        "\n",
        "temp = dropdown1.value.strip(\"(recommended)\").rstrip()\n",
        "\n",
        "if dropdown2.value == \"20 best features (recommended)\":\n",
        "  important_features = True\n",
        "else:\n",
        "  important_features = False\n",
        "\n",
        "with open(results_file, \"w\") as w_file:\n",
        "  for data_file in sequence_data_files:\n",
        "    seq = DT.Sequence(f\"../sequence_data/{data_file}\", temp=temp)\n",
        "    prediction, feats = seq.predict()\n",
        "    print(seq.sequence.split(\"/\")[-1], prediction)\n",
        "    w_file.write(f\"{seq.sequence.split('/')[-1]}, {prediction}, {temp}, sequence\\n\")\n",
        "\n",
        "  for data_file in structure_data_files:\n",
        "    if not data_file.endswith(\".pdb\"): continue\n",
        "    struct = DT.Structure(f\"../structure_data/{data_file}\", temp=temp, important_features=important_features)\n",
        "    prediction, feats = struct.predict()\n",
        "    print(struct.structure.split(\"/\")[-1], prediction)\n",
        "    w_file.write(f\"{struct.structure.split('/')[-1]}, {prediction}, {temp}, structure\\n\")\n",
        "    if checkboxes[0].value == True:\n",
        "      seq = DT.Sequence(f\"../structure_data/{data_file}\", temp=temp)\n",
        "      prediction, feats = seq.predict()\n",
        "      print(seq.sequence.split(\"/\")[-1], prediction)\n",
        "      w_file.write(f\"{seq.sequence.split('/')[-1]}, {prediction}, {temp}, sequence\\n\")\n",
        "  try:\n",
        "    if len(sequences_text) != 0 and sequences_text != 'Add comma-separated protein sequences':\n",
        "      for sequence in sequences_text.split(\",\"):\n",
        "        sequence = sequence.strip()\n",
        "        seq = DT.Sequence(sequence, temp=temp)\n",
        "        prediction, feats = seq.predict()\n",
        "        print(seq.sequence, prediction)\n",
        "        w_file.write(f\"{seq.sequence}, {prediction}, {temp}, sequence\\n\")\n",
        "  except:\n",
        "    print(\"No sequence text added.\")\n",
        "\n",
        "\n"
      ],
      "metadata": {
        "id": "hArpkUpLW0NJ",
        "cellView": "form"
      },
      "execution_count": null,
      "outputs": []
    },
    {
      "cell_type": "code",
      "source": [
        "# @title Download results\n",
        "from google.colab import files\n",
        "import ipywidgets as widgets\n",
        "from IPython.display import display, HTML\n",
        "import os\n",
        "import shutil\n",
        "\n",
        "# Ensure correct cwd\n",
        "%cd ~/../content/DensiTree\n",
        "\n",
        "# filename variable\n",
        "download_filenames = [os.path.join(\"results\", file) for file in os.listdir(\"results\") if file.startswith(\"predictions\")]\n",
        "\n",
        "# file download function\n",
        "def file_download(b):\n",
        "    global download_filenames\n",
        "    for download_file in download_filenames:\n",
        "      downloaded = files.download(download_file)\n",
        "\n",
        "# button widget\n",
        "btn = widgets.Button(\n",
        "    description='📁 Download results.txt File(s)',\n",
        "    button_style='success',\n",
        "    layout=widgets.Layout(width='300px', height='75px'),\n",
        "    style={'font_weight': 'bold', 'font_size': '16px'}\n",
        ")\n",
        "\n",
        "btn.on_click(file_download)\n",
        "display(HTML(\"<h3 style='font-family:sans-serif;'>Download protein density results file(s)</h3>\"))\n",
        "display(btn)\n",
        "\n"
      ],
      "metadata": {
        "cellView": "form",
        "id": "VueJQVZJ1gp_"
      },
      "execution_count": null,
      "outputs": []
    }
  ]
}